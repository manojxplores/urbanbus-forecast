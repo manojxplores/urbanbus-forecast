{
 "cells": [
  {
   "cell_type": "code",
   "execution_count": 1,
   "id": "3a3ca20e",
   "metadata": {},
   "outputs": [],
   "source": [
    "import numpy as np\n",
    "import pandas as pd\n",
    "import matplotlib.pyplot as plt\n",
    "import seaborn as sns\n",
    "import plotly.express as px"
   ]
  },
  {
   "cell_type": "code",
   "execution_count": 2,
   "id": "fce0515d",
   "metadata": {},
   "outputs": [],
   "source": [
    "df_xgb = pd.read_csv('xgb_model_metrics.csv')\n",
    "df_lgbm = pd.read_csv('lgbm_model_metrics.csv')\n",
    "\n",
    "df_metrics = pd.concat([df_xgb, df_lgbm])"
   ]
  },
  {
   "cell_type": "code",
   "execution_count": 3,
   "id": "07439eab",
   "metadata": {},
   "outputs": [
    {
     "data": {
      "text/html": [
       "<div>\n",
       "<style scoped>\n",
       "    .dataframe tbody tr th:only-of-type {\n",
       "        vertical-align: middle;\n",
       "    }\n",
       "\n",
       "    .dataframe tbody tr th {\n",
       "        vertical-align: top;\n",
       "    }\n",
       "\n",
       "    .dataframe thead th {\n",
       "        text-align: right;\n",
       "    }\n",
       "</style>\n",
       "<table border=\"1\" class=\"dataframe\">\n",
       "  <thead>\n",
       "    <tr style=\"text-align: right;\">\n",
       "      <th></th>\n",
       "      <th>train_R2</th>\n",
       "      <th>val_R2</th>\n",
       "      <th>train_MAE</th>\n",
       "      <th>val_MAE</th>\n",
       "      <th>train_RMSE</th>\n",
       "      <th>val_RMSE</th>\n",
       "      <th>val_MAPE</th>\n",
       "      <th>val_sMAPE</th>\n",
       "    </tr>\n",
       "  </thead>\n",
       "  <tbody>\n",
       "    <tr>\n",
       "      <th>count</th>\n",
       "      <td>594.000000</td>\n",
       "      <td>594.000000</td>\n",
       "      <td>594.000000</td>\n",
       "      <td>594.000000</td>\n",
       "      <td>594.000000</td>\n",
       "      <td>594.000000</td>\n",
       "      <td>594.000000</td>\n",
       "      <td>594.000000</td>\n",
       "    </tr>\n",
       "    <tr>\n",
       "      <th>mean</th>\n",
       "      <td>0.892058</td>\n",
       "      <td>0.748702</td>\n",
       "      <td>9.922198</td>\n",
       "      <td>14.571540</td>\n",
       "      <td>13.192789</td>\n",
       "      <td>19.553199</td>\n",
       "      <td>47.509467</td>\n",
       "      <td>26.240004</td>\n",
       "    </tr>\n",
       "    <tr>\n",
       "      <th>std</th>\n",
       "      <td>0.098691</td>\n",
       "      <td>0.241989</td>\n",
       "      <td>5.428637</td>\n",
       "      <td>6.983480</td>\n",
       "      <td>7.088723</td>\n",
       "      <td>9.215051</td>\n",
       "      <td>46.283223</td>\n",
       "      <td>13.893411</td>\n",
       "    </tr>\n",
       "    <tr>\n",
       "      <th>min</th>\n",
       "      <td>0.254177</td>\n",
       "      <td>-2.069111</td>\n",
       "      <td>0.584099</td>\n",
       "      <td>1.071285</td>\n",
       "      <td>0.818741</td>\n",
       "      <td>1.307952</td>\n",
       "      <td>13.398812</td>\n",
       "      <td>11.421815</td>\n",
       "    </tr>\n",
       "    <tr>\n",
       "      <th>25%</th>\n",
       "      <td>0.870922</td>\n",
       "      <td>0.698150</td>\n",
       "      <td>6.028350</td>\n",
       "      <td>9.634434</td>\n",
       "      <td>8.258047</td>\n",
       "      <td>13.218896</td>\n",
       "      <td>21.326007</td>\n",
       "      <td>16.627494</td>\n",
       "    </tr>\n",
       "    <tr>\n",
       "      <th>50%</th>\n",
       "      <td>0.920708</td>\n",
       "      <td>0.832460</td>\n",
       "      <td>10.013207</td>\n",
       "      <td>14.313997</td>\n",
       "      <td>13.139929</td>\n",
       "      <td>19.145755</td>\n",
       "      <td>26.453270</td>\n",
       "      <td>20.000662</td>\n",
       "    </tr>\n",
       "    <tr>\n",
       "      <th>75%</th>\n",
       "      <td>0.951063</td>\n",
       "      <td>0.886941</td>\n",
       "      <td>13.116847</td>\n",
       "      <td>18.962114</td>\n",
       "      <td>17.249915</td>\n",
       "      <td>25.303682</td>\n",
       "      <td>55.201824</td>\n",
       "      <td>31.640479</td>\n",
       "    </tr>\n",
       "    <tr>\n",
       "      <th>max</th>\n",
       "      <td>0.998729</td>\n",
       "      <td>0.961596</td>\n",
       "      <td>41.404469</td>\n",
       "      <td>61.182220</td>\n",
       "      <td>54.718371</td>\n",
       "      <td>79.901383</td>\n",
       "      <td>345.782355</td>\n",
       "      <td>78.556746</td>\n",
       "    </tr>\n",
       "  </tbody>\n",
       "</table>\n",
       "</div>"
      ],
      "text/plain": [
       "         train_R2      val_R2   train_MAE     val_MAE  train_RMSE    val_RMSE  \\\n",
       "count  594.000000  594.000000  594.000000  594.000000  594.000000  594.000000   \n",
       "mean     0.892058    0.748702    9.922198   14.571540   13.192789   19.553199   \n",
       "std      0.098691    0.241989    5.428637    6.983480    7.088723    9.215051   \n",
       "min      0.254177   -2.069111    0.584099    1.071285    0.818741    1.307952   \n",
       "25%      0.870922    0.698150    6.028350    9.634434    8.258047   13.218896   \n",
       "50%      0.920708    0.832460   10.013207   14.313997   13.139929   19.145755   \n",
       "75%      0.951063    0.886941   13.116847   18.962114   17.249915   25.303682   \n",
       "max      0.998729    0.961596   41.404469   61.182220   54.718371   79.901383   \n",
       "\n",
       "         val_MAPE   val_sMAPE  \n",
       "count  594.000000  594.000000  \n",
       "mean    47.509467   26.240004  \n",
       "std     46.283223   13.893411  \n",
       "min     13.398812   11.421815  \n",
       "25%     21.326007   16.627494  \n",
       "50%     26.453270   20.000662  \n",
       "75%     55.201824   31.640479  \n",
       "max    345.782355   78.556746  "
      ]
     },
     "execution_count": 3,
     "metadata": {},
     "output_type": "execute_result"
    }
   ],
   "source": [
    "df_xgb.describe()"
   ]
  },
  {
   "cell_type": "code",
   "execution_count": 4,
   "id": "980058dc",
   "metadata": {},
   "outputs": [
    {
     "data": {
      "text/html": [
       "<div>\n",
       "<style scoped>\n",
       "    .dataframe tbody tr th:only-of-type {\n",
       "        vertical-align: middle;\n",
       "    }\n",
       "\n",
       "    .dataframe tbody tr th {\n",
       "        vertical-align: top;\n",
       "    }\n",
       "\n",
       "    .dataframe thead th {\n",
       "        text-align: right;\n",
       "    }\n",
       "</style>\n",
       "<table border=\"1\" class=\"dataframe\">\n",
       "  <thead>\n",
       "    <tr style=\"text-align: right;\">\n",
       "      <th></th>\n",
       "      <th>train_R2</th>\n",
       "      <th>val_R2</th>\n",
       "      <th>train_MAE</th>\n",
       "      <th>val_MAE</th>\n",
       "      <th>train_RMSE</th>\n",
       "      <th>val_RMSE</th>\n",
       "      <th>val_MAPE</th>\n",
       "      <th>val_sMAPE</th>\n",
       "    </tr>\n",
       "  </thead>\n",
       "  <tbody>\n",
       "    <tr>\n",
       "      <th>count</th>\n",
       "      <td>594.000000</td>\n",
       "      <td>594.000000</td>\n",
       "      <td>594.000000</td>\n",
       "      <td>594.000000</td>\n",
       "      <td>594.000000</td>\n",
       "      <td>594.000000</td>\n",
       "      <td>594.000000</td>\n",
       "      <td>594.000000</td>\n",
       "    </tr>\n",
       "    <tr>\n",
       "      <th>mean</th>\n",
       "      <td>0.827046</td>\n",
       "      <td>0.746940</td>\n",
       "      <td>12.374190</td>\n",
       "      <td>14.704012</td>\n",
       "      <td>16.383351</td>\n",
       "      <td>19.684143</td>\n",
       "      <td>47.936081</td>\n",
       "      <td>26.536240</td>\n",
       "    </tr>\n",
       "    <tr>\n",
       "      <th>std</th>\n",
       "      <td>0.143688</td>\n",
       "      <td>0.230446</td>\n",
       "      <td>6.152153</td>\n",
       "      <td>7.047988</td>\n",
       "      <td>8.012409</td>\n",
       "      <td>9.279243</td>\n",
       "      <td>46.238795</td>\n",
       "      <td>13.845237</td>\n",
       "    </tr>\n",
       "    <tr>\n",
       "      <th>min</th>\n",
       "      <td>0.000000</td>\n",
       "      <td>-1.603419</td>\n",
       "      <td>0.525394</td>\n",
       "      <td>0.939099</td>\n",
       "      <td>0.668581</td>\n",
       "      <td>1.163194</td>\n",
       "      <td>13.575048</td>\n",
       "      <td>11.946590</td>\n",
       "    </tr>\n",
       "    <tr>\n",
       "      <th>25%</th>\n",
       "      <td>0.787184</td>\n",
       "      <td>0.697002</td>\n",
       "      <td>8.001222</td>\n",
       "      <td>9.678768</td>\n",
       "      <td>10.858358</td>\n",
       "      <td>13.419024</td>\n",
       "      <td>21.901126</td>\n",
       "      <td>16.896733</td>\n",
       "    </tr>\n",
       "    <tr>\n",
       "      <th>50%</th>\n",
       "      <td>0.875547</td>\n",
       "      <td>0.829664</td>\n",
       "      <td>12.024892</td>\n",
       "      <td>14.367985</td>\n",
       "      <td>15.880178</td>\n",
       "      <td>19.203416</td>\n",
       "      <td>27.240347</td>\n",
       "      <td>20.250054</td>\n",
       "    </tr>\n",
       "    <tr>\n",
       "      <th>75%</th>\n",
       "      <td>0.919362</td>\n",
       "      <td>0.884487</td>\n",
       "      <td>16.264369</td>\n",
       "      <td>19.062447</td>\n",
       "      <td>21.442634</td>\n",
       "      <td>25.381298</td>\n",
       "      <td>55.911325</td>\n",
       "      <td>32.722295</td>\n",
       "    </tr>\n",
       "    <tr>\n",
       "      <th>max</th>\n",
       "      <td>0.994778</td>\n",
       "      <td>0.961574</td>\n",
       "      <td>54.358784</td>\n",
       "      <td>61.598626</td>\n",
       "      <td>70.340106</td>\n",
       "      <td>80.213059</td>\n",
       "      <td>352.097585</td>\n",
       "      <td>81.444460</td>\n",
       "    </tr>\n",
       "  </tbody>\n",
       "</table>\n",
       "</div>"
      ],
      "text/plain": [
       "         train_R2      val_R2   train_MAE     val_MAE  train_RMSE    val_RMSE  \\\n",
       "count  594.000000  594.000000  594.000000  594.000000  594.000000  594.000000   \n",
       "mean     0.827046    0.746940   12.374190   14.704012   16.383351   19.684143   \n",
       "std      0.143688    0.230446    6.152153    7.047988    8.012409    9.279243   \n",
       "min      0.000000   -1.603419    0.525394    0.939099    0.668581    1.163194   \n",
       "25%      0.787184    0.697002    8.001222    9.678768   10.858358   13.419024   \n",
       "50%      0.875547    0.829664   12.024892   14.367985   15.880178   19.203416   \n",
       "75%      0.919362    0.884487   16.264369   19.062447   21.442634   25.381298   \n",
       "max      0.994778    0.961574   54.358784   61.598626   70.340106   80.213059   \n",
       "\n",
       "         val_MAPE   val_sMAPE  \n",
       "count  594.000000  594.000000  \n",
       "mean    47.936081   26.536240  \n",
       "std     46.238795   13.845237  \n",
       "min     13.575048   11.946590  \n",
       "25%     21.901126   16.896733  \n",
       "50%     27.240347   20.250054  \n",
       "75%     55.911325   32.722295  \n",
       "max    352.097585   81.444460  "
      ]
     },
     "execution_count": 4,
     "metadata": {},
     "output_type": "execute_result"
    }
   ],
   "source": [
    "df_lgbm.describe()"
   ]
  },
  {
   "cell_type": "code",
   "execution_count": 5,
   "id": "cd6b8e9a",
   "metadata": {},
   "outputs": [
    {
     "data": {
      "application/vnd.plotly.v1+json": {
       "config": {
        "plotlyServerURL": "https://plot.ly"
       },
       "data": [
        {
         "alignmentgroup": "True",
         "hovertemplate": "model=%{x}<br>val_MAE=%{y}<extra></extra>",
         "legendgroup": "XGBoost",
         "marker": {
          "color": "#ff7f0e"
         },
         "name": "XGBoost",
         "notched": false,
         "offsetgroup": "XGBoost",
         "orientation": "v",
         "showlegend": true,
         "type": "box",
         "x": [
          "XGBoost",
          "XGBoost",
          "XGBoost",
          "XGBoost",
          "XGBoost",
          "XGBoost",
          "XGBoost",
          "XGBoost",
          "XGBoost",
          "XGBoost",
          "XGBoost",
          "XGBoost",
          "XGBoost",
          "XGBoost",
          "XGBoost",
          "XGBoost",
          "XGBoost",
          "XGBoost",
          "XGBoost",
          "XGBoost",
          "XGBoost",
          "XGBoost",
          "XGBoost",
          "XGBoost",
          "XGBoost",
          "XGBoost",
          "XGBoost",
          "XGBoost",
          "XGBoost",
          "XGBoost",
          "XGBoost",
          "XGBoost",
          "XGBoost",
          "XGBoost",
          "XGBoost",
          "XGBoost",
          "XGBoost",
          "XGBoost",
          "XGBoost",
          "XGBoost",
          "XGBoost",
          "XGBoost",
          "XGBoost",
          "XGBoost",
          "XGBoost",
          "XGBoost",
          "XGBoost",
          "XGBoost",
          "XGBoost",
          "XGBoost",
          "XGBoost",
          "XGBoost",
          "XGBoost",
          "XGBoost",
          "XGBoost",
          "XGBoost",
          "XGBoost",
          "XGBoost",
          "XGBoost",
          "XGBoost",
          "XGBoost",
          "XGBoost",
          "XGBoost",
          "XGBoost",
          "XGBoost",
          "XGBoost",
          "XGBoost",
          "XGBoost",
          "XGBoost",
          "XGBoost",
          "XGBoost",
          "XGBoost",
          "XGBoost",
          "XGBoost",
          "XGBoost",
          "XGBoost",
          "XGBoost",
          "XGBoost",
          "XGBoost",
          "XGBoost",
          "XGBoost",
          "XGBoost",
          "XGBoost",
          "XGBoost",
          "XGBoost",
          "XGBoost",
          "XGBoost",
          "XGBoost",
          "XGBoost",
          "XGBoost",
          "XGBoost",
          "XGBoost",
          "XGBoost",
          "XGBoost",
          "XGBoost",
          "XGBoost",
          "XGBoost",
          "XGBoost",
          "XGBoost",
          "XGBoost",
          "XGBoost",
          "XGBoost",
          "XGBoost",
          "XGBoost",
          "XGBoost",
          "XGBoost",
          "XGBoost",
          "XGBoost",
          "XGBoost",
          "XGBoost",
          "XGBoost",
          "XGBoost",
          "XGBoost",
          "XGBoost",
          "XGBoost",
          "XGBoost",
          "XGBoost",
          "XGBoost",
          "XGBoost",
          "XGBoost",
          "XGBoost",
          "XGBoost",
          "XGBoost",
          "XGBoost",
          "XGBoost",
          "XGBoost",
          "XGBoost",
          "XGBoost",
          "XGBoost",
          "XGBoost",
          "XGBoost",
          "XGBoost",
          "XGBoost",
          "XGBoost",
          "XGBoost",
          "XGBoost",
          "XGBoost",
          "XGBoost",
          "XGBoost",
          "XGBoost",
          "XGBoost",
          "XGBoost",
          "XGBoost",
          "XGBoost",
          "XGBoost",
          "XGBoost",
          "XGBoost",
          "XGBoost",
          "XGBoost",
          "XGBoost",
          "XGBoost",
          "XGBoost",
          "XGBoost",
          "XGBoost",
          "XGBoost",
          "XGBoost",
          "XGBoost",
          "XGBoost",
          "XGBoost",
          "XGBoost",
          "XGBoost",
          "XGBoost",
          "XGBoost",
          "XGBoost",
          "XGBoost",
          "XGBoost",
          "XGBoost",
          "XGBoost",
          "XGBoost",
          "XGBoost",
          "XGBoost",
          "XGBoost",
          "XGBoost",
          "XGBoost",
          "XGBoost",
          "XGBoost",
          "XGBoost",
          "XGBoost",
          "XGBoost",
          "XGBoost",
          "XGBoost",
          "XGBoost",
          "XGBoost",
          "XGBoost",
          "XGBoost",
          "XGBoost",
          "XGBoost",
          "XGBoost",
          "XGBoost",
          "XGBoost",
          "XGBoost",
          "XGBoost",
          "XGBoost",
          "XGBoost",
          "XGBoost",
          "XGBoost",
          "XGBoost",
          "XGBoost",
          "XGBoost",
          "XGBoost",
          "XGBoost",
          "XGBoost",
          "XGBoost",
          "XGBoost",
          "XGBoost",
          "XGBoost",
          "XGBoost",
          "XGBoost",
          "XGBoost",
          "XGBoost",
          "XGBoost",
          "XGBoost",
          "XGBoost",
          "XGBoost",
          "XGBoost",
          "XGBoost",
          "XGBoost",
          "XGBoost",
          "XGBoost",
          "XGBoost",
          "XGBoost",
          "XGBoost",
          "XGBoost",
          "XGBoost",
          "XGBoost",
          "XGBoost",
          "XGBoost",
          "XGBoost",
          "XGBoost",
          "XGBoost",
          "XGBoost",
          "XGBoost",
          "XGBoost",
          "XGBoost",
          "XGBoost",
          "XGBoost",
          "XGBoost",
          "XGBoost",
          "XGBoost",
          "XGBoost",
          "XGBoost",
          "XGBoost",
          "XGBoost",
          "XGBoost",
          "XGBoost",
          "XGBoost",
          "XGBoost",
          "XGBoost",
          "XGBoost",
          "XGBoost",
          "XGBoost",
          "XGBoost",
          "XGBoost",
          "XGBoost",
          "XGBoost",
          "XGBoost",
          "XGBoost",
          "XGBoost",
          "XGBoost",
          "XGBoost",
          "XGBoost",
          "XGBoost",
          "XGBoost",
          "XGBoost",
          "XGBoost",
          "XGBoost",
          "XGBoost",
          "XGBoost",
          "XGBoost",
          "XGBoost",
          "XGBoost",
          "XGBoost",
          "XGBoost",
          "XGBoost",
          "XGBoost",
          "XGBoost",
          "XGBoost",
          "XGBoost",
          "XGBoost",
          "XGBoost",
          "XGBoost",
          "XGBoost",
          "XGBoost",
          "XGBoost",
          "XGBoost",
          "XGBoost",
          "XGBoost",
          "XGBoost",
          "XGBoost",
          "XGBoost",
          "XGBoost",
          "XGBoost",
          "XGBoost",
          "XGBoost",
          "XGBoost",
          "XGBoost",
          "XGBoost",
          "XGBoost",
          "XGBoost",
          "XGBoost",
          "XGBoost",
          "XGBoost",
          "XGBoost",
          "XGBoost",
          "XGBoost",
          "XGBoost",
          "XGBoost",
          "XGBoost",
          "XGBoost",
          "XGBoost",
          "XGBoost",
          "XGBoost",
          "XGBoost",
          "XGBoost",
          "XGBoost",
          "XGBoost",
          "XGBoost",
          "XGBoost",
          "XGBoost",
          "XGBoost",
          "XGBoost",
          "XGBoost",
          "XGBoost",
          "XGBoost",
          "XGBoost",
          "XGBoost",
          "XGBoost",
          "XGBoost",
          "XGBoost",
          "XGBoost",
          "XGBoost",
          "XGBoost",
          "XGBoost",
          "XGBoost",
          "XGBoost",
          "XGBoost",
          "XGBoost",
          "XGBoost",
          "XGBoost",
          "XGBoost",
          "XGBoost",
          "XGBoost",
          "XGBoost",
          "XGBoost",
          "XGBoost",
          "XGBoost",
          "XGBoost",
          "XGBoost",
          "XGBoost",
          "XGBoost",
          "XGBoost",
          "XGBoost",
          "XGBoost",
          "XGBoost",
          "XGBoost",
          "XGBoost",
          "XGBoost",
          "XGBoost",
          "XGBoost",
          "XGBoost",
          "XGBoost",
          "XGBoost",
          "XGBoost",
          "XGBoost",
          "XGBoost",
          "XGBoost",
          "XGBoost",
          "XGBoost",
          "XGBoost",
          "XGBoost",
          "XGBoost",
          "XGBoost",
          "XGBoost",
          "XGBoost",
          "XGBoost",
          "XGBoost",
          "XGBoost",
          "XGBoost",
          "XGBoost",
          "XGBoost",
          "XGBoost",
          "XGBoost",
          "XGBoost",
          "XGBoost",
          "XGBoost",
          "XGBoost",
          "XGBoost",
          "XGBoost",
          "XGBoost",
          "XGBoost",
          "XGBoost",
          "XGBoost",
          "XGBoost",
          "XGBoost",
          "XGBoost",
          "XGBoost",
          "XGBoost",
          "XGBoost",
          "XGBoost",
          "XGBoost",
          "XGBoost",
          "XGBoost",
          "XGBoost",
          "XGBoost",
          "XGBoost",
          "XGBoost",
          "XGBoost",
          "XGBoost",
          "XGBoost",
          "XGBoost",
          "XGBoost",
          "XGBoost",
          "XGBoost",
          "XGBoost",
          "XGBoost",
          "XGBoost",
          "XGBoost",
          "XGBoost",
          "XGBoost",
          "XGBoost",
          "XGBoost",
          "XGBoost",
          "XGBoost",
          "XGBoost",
          "XGBoost",
          "XGBoost",
          "XGBoost",
          "XGBoost",
          "XGBoost",
          "XGBoost",
          "XGBoost",
          "XGBoost",
          "XGBoost",
          "XGBoost",
          "XGBoost",
          "XGBoost",
          "XGBoost",
          "XGBoost",
          "XGBoost",
          "XGBoost",
          "XGBoost",
          "XGBoost",
          "XGBoost",
          "XGBoost",
          "XGBoost",
          "XGBoost",
          "XGBoost",
          "XGBoost",
          "XGBoost",
          "XGBoost",
          "XGBoost",
          "XGBoost",
          "XGBoost",
          "XGBoost",
          "XGBoost",
          "XGBoost",
          "XGBoost",
          "XGBoost",
          "XGBoost",
          "XGBoost",
          "XGBoost",
          "XGBoost",
          "XGBoost",
          "XGBoost",
          "XGBoost",
          "XGBoost",
          "XGBoost",
          "XGBoost",
          "XGBoost",
          "XGBoost",
          "XGBoost",
          "XGBoost",
          "XGBoost",
          "XGBoost",
          "XGBoost",
          "XGBoost",
          "XGBoost",
          "XGBoost",
          "XGBoost",
          "XGBoost",
          "XGBoost",
          "XGBoost",
          "XGBoost",
          "XGBoost",
          "XGBoost",
          "XGBoost",
          "XGBoost",
          "XGBoost",
          "XGBoost",
          "XGBoost",
          "XGBoost",
          "XGBoost",
          "XGBoost",
          "XGBoost",
          "XGBoost",
          "XGBoost",
          "XGBoost",
          "XGBoost",
          "XGBoost",
          "XGBoost",
          "XGBoost",
          "XGBoost",
          "XGBoost",
          "XGBoost",
          "XGBoost",
          "XGBoost",
          "XGBoost",
          "XGBoost",
          "XGBoost",
          "XGBoost",
          "XGBoost",
          "XGBoost",
          "XGBoost",
          "XGBoost",
          "XGBoost",
          "XGBoost",
          "XGBoost",
          "XGBoost",
          "XGBoost",
          "XGBoost",
          "XGBoost",
          "XGBoost",
          "XGBoost",
          "XGBoost",
          "XGBoost",
          "XGBoost",
          "XGBoost",
          "XGBoost",
          "XGBoost",
          "XGBoost",
          "XGBoost",
          "XGBoost",
          "XGBoost",
          "XGBoost",
          "XGBoost",
          "XGBoost",
          "XGBoost",
          "XGBoost",
          "XGBoost",
          "XGBoost",
          "XGBoost",
          "XGBoost",
          "XGBoost",
          "XGBoost",
          "XGBoost",
          "XGBoost",
          "XGBoost",
          "XGBoost",
          "XGBoost",
          "XGBoost",
          "XGBoost",
          "XGBoost",
          "XGBoost",
          "XGBoost",
          "XGBoost",
          "XGBoost",
          "XGBoost",
          "XGBoost",
          "XGBoost",
          "XGBoost",
          "XGBoost",
          "XGBoost",
          "XGBoost",
          "XGBoost",
          "XGBoost",
          "XGBoost",
          "XGBoost",
          "XGBoost",
          "XGBoost",
          "XGBoost",
          "XGBoost",
          "XGBoost",
          "XGBoost",
          "XGBoost",
          "XGBoost",
          "XGBoost",
          "XGBoost",
          "XGBoost",
          "XGBoost",
          "XGBoost",
          "XGBoost",
          "XGBoost",
          "XGBoost",
          "XGBoost",
          "XGBoost",
          "XGBoost",
          "XGBoost",
          "XGBoost",
          "XGBoost",
          "XGBoost",
          "XGBoost",
          "XGBoost",
          "XGBoost",
          "XGBoost"
         ],
         "x0": " ",
         "xaxis": "x",
         "y": {
          "bdata": "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",
          "dtype": "f8"
         },
         "y0": " ",
         "yaxis": "y"
        },
        {
         "alignmentgroup": "True",
         "hovertemplate": "model=%{x}<br>val_MAE=%{y}<extra></extra>",
         "legendgroup": "LightGBM",
         "marker": {
          "color": "#1f77b4"
         },
         "name": "LightGBM",
         "notched": false,
         "offsetgroup": "LightGBM",
         "orientation": "v",
         "showlegend": true,
         "type": "box",
         "x": [
          "LightGBM",
          "LightGBM",
          "LightGBM",
          "LightGBM",
          "LightGBM",
          "LightGBM",
          "LightGBM",
          "LightGBM",
          "LightGBM",
          "LightGBM",
          "LightGBM",
          "LightGBM",
          "LightGBM",
          "LightGBM",
          "LightGBM",
          "LightGBM",
          "LightGBM",
          "LightGBM",
          "LightGBM",
          "LightGBM",
          "LightGBM",
          "LightGBM",
          "LightGBM",
          "LightGBM",
          "LightGBM",
          "LightGBM",
          "LightGBM",
          "LightGBM",
          "LightGBM",
          "LightGBM",
          "LightGBM",
          "LightGBM",
          "LightGBM",
          "LightGBM",
          "LightGBM",
          "LightGBM",
          "LightGBM",
          "LightGBM",
          "LightGBM",
          "LightGBM",
          "LightGBM",
          "LightGBM",
          "LightGBM",
          "LightGBM",
          "LightGBM",
          "LightGBM",
          "LightGBM",
          "LightGBM",
          "LightGBM",
          "LightGBM",
          "LightGBM",
          "LightGBM",
          "LightGBM",
          "LightGBM",
          "LightGBM",
          "LightGBM",
          "LightGBM",
          "LightGBM",
          "LightGBM",
          "LightGBM",
          "LightGBM",
          "LightGBM",
          "LightGBM",
          "LightGBM",
          "LightGBM",
          "LightGBM",
          "LightGBM",
          "LightGBM",
          "LightGBM",
          "LightGBM",
          "LightGBM",
          "LightGBM",
          "LightGBM",
          "LightGBM",
          "LightGBM",
          "LightGBM",
          "LightGBM",
          "LightGBM",
          "LightGBM",
          "LightGBM",
          "LightGBM",
          "LightGBM",
          "LightGBM",
          "LightGBM",
          "LightGBM",
          "LightGBM",
          "LightGBM",
          "LightGBM",
          "LightGBM",
          "LightGBM",
          "LightGBM",
          "LightGBM",
          "LightGBM",
          "LightGBM",
          "LightGBM",
          "LightGBM",
          "LightGBM",
          "LightGBM",
          "LightGBM",
          "LightGBM",
          "LightGBM",
          "LightGBM",
          "LightGBM",
          "LightGBM",
          "LightGBM",
          "LightGBM",
          "LightGBM",
          "LightGBM",
          "LightGBM",
          "LightGBM",
          "LightGBM",
          "LightGBM",
          "LightGBM",
          "LightGBM",
          "LightGBM",
          "LightGBM",
          "LightGBM",
          "LightGBM",
          "LightGBM",
          "LightGBM",
          "LightGBM",
          "LightGBM",
          "LightGBM",
          "LightGBM",
          "LightGBM",
          "LightGBM",
          "LightGBM",
          "LightGBM",
          "LightGBM",
          "LightGBM",
          "LightGBM",
          "LightGBM",
          "LightGBM",
          "LightGBM",
          "LightGBM",
          "LightGBM",
          "LightGBM",
          "LightGBM",
          "LightGBM",
          "LightGBM",
          "LightGBM",
          "LightGBM",
          "LightGBM",
          "LightGBM",
          "LightGBM",
          "LightGBM",
          "LightGBM",
          "LightGBM",
          "LightGBM",
          "LightGBM",
          "LightGBM",
          "LightGBM",
          "LightGBM",
          "LightGBM",
          "LightGBM",
          "LightGBM",
          "LightGBM",
          "LightGBM",
          "LightGBM",
          "LightGBM",
          "LightGBM",
          "LightGBM",
          "LightGBM",
          "LightGBM",
          "LightGBM",
          "LightGBM",
          "LightGBM",
          "LightGBM",
          "LightGBM",
          "LightGBM",
          "LightGBM",
          "LightGBM",
          "LightGBM",
          "LightGBM",
          "LightGBM",
          "LightGBM",
          "LightGBM",
          "LightGBM",
          "LightGBM",
          "LightGBM",
          "LightGBM",
          "LightGBM",
          "LightGBM",
          "LightGBM",
          "LightGBM",
          "LightGBM",
          "LightGBM",
          "LightGBM",
          "LightGBM",
          "LightGBM",
          "LightGBM",
          "LightGBM",
          "LightGBM",
          "LightGBM",
          "LightGBM",
          "LightGBM",
          "LightGBM",
          "LightGBM",
          "LightGBM",
          "LightGBM",
          "LightGBM",
          "LightGBM",
          "LightGBM",
          "LightGBM",
          "LightGBM",
          "LightGBM",
          "LightGBM",
          "LightGBM",
          "LightGBM",
          "LightGBM",
          "LightGBM",
          "LightGBM",
          "LightGBM",
          "LightGBM",
          "LightGBM",
          "LightGBM",
          "LightGBM",
          "LightGBM",
          "LightGBM",
          "LightGBM",
          "LightGBM",
          "LightGBM",
          "LightGBM",
          "LightGBM",
          "LightGBM",
          "LightGBM",
          "LightGBM",
          "LightGBM",
          "LightGBM",
          "LightGBM",
          "LightGBM",
          "LightGBM",
          "LightGBM",
          "LightGBM",
          "LightGBM",
          "LightGBM",
          "LightGBM",
          "LightGBM",
          "LightGBM",
          "LightGBM",
          "LightGBM",
          "LightGBM",
          "LightGBM",
          "LightGBM",
          "LightGBM",
          "LightGBM",
          "LightGBM",
          "LightGBM",
          "LightGBM",
          "LightGBM",
          "LightGBM",
          "LightGBM",
          "LightGBM",
          "LightGBM",
          "LightGBM",
          "LightGBM",
          "LightGBM",
          "LightGBM",
          "LightGBM",
          "LightGBM",
          "LightGBM",
          "LightGBM",
          "LightGBM",
          "LightGBM",
          "LightGBM",
          "LightGBM",
          "LightGBM",
          "LightGBM",
          "LightGBM",
          "LightGBM",
          "LightGBM",
          "LightGBM",
          "LightGBM",
          "LightGBM",
          "LightGBM",
          "LightGBM",
          "LightGBM",
          "LightGBM",
          "LightGBM",
          "LightGBM",
          "LightGBM",
          "LightGBM",
          "LightGBM",
          "LightGBM",
          "LightGBM",
          "LightGBM",
          "LightGBM",
          "LightGBM",
          "LightGBM",
          "LightGBM",
          "LightGBM",
          "LightGBM",
          "LightGBM",
          "LightGBM",
          "LightGBM",
          "LightGBM",
          "LightGBM",
          "LightGBM",
          "LightGBM",
          "LightGBM",
          "LightGBM",
          "LightGBM",
          "LightGBM",
          "LightGBM",
          "LightGBM",
          "LightGBM",
          "LightGBM",
          "LightGBM",
          "LightGBM",
          "LightGBM",
          "LightGBM",
          "LightGBM",
          "LightGBM",
          "LightGBM",
          "LightGBM",
          "LightGBM",
          "LightGBM",
          "LightGBM",
          "LightGBM",
          "LightGBM",
          "LightGBM",
          "LightGBM",
          "LightGBM",
          "LightGBM",
          "LightGBM",
          "LightGBM",
          "LightGBM",
          "LightGBM",
          "LightGBM",
          "LightGBM",
          "LightGBM",
          "LightGBM",
          "LightGBM",
          "LightGBM",
          "LightGBM",
          "LightGBM",
          "LightGBM",
          "LightGBM",
          "LightGBM",
          "LightGBM",
          "LightGBM",
          "LightGBM",
          "LightGBM",
          "LightGBM",
          "LightGBM",
          "LightGBM",
          "LightGBM",
          "LightGBM",
          "LightGBM",
          "LightGBM",
          "LightGBM",
          "LightGBM",
          "LightGBM",
          "LightGBM",
          "LightGBM",
          "LightGBM",
          "LightGBM",
          "LightGBM",
          "LightGBM",
          "LightGBM",
          "LightGBM",
          "LightGBM",
          "LightGBM",
          "LightGBM",
          "LightGBM",
          "LightGBM",
          "LightGBM",
          "LightGBM",
          "LightGBM",
          "LightGBM",
          "LightGBM",
          "LightGBM",
          "LightGBM",
          "LightGBM",
          "LightGBM",
          "LightGBM",
          "LightGBM",
          "LightGBM",
          "LightGBM",
          "LightGBM",
          "LightGBM",
          "LightGBM",
          "LightGBM",
          "LightGBM",
          "LightGBM",
          "LightGBM",
          "LightGBM",
          "LightGBM",
          "LightGBM",
          "LightGBM",
          "LightGBM",
          "LightGBM",
          "LightGBM",
          "LightGBM",
          "LightGBM",
          "LightGBM",
          "LightGBM",
          "LightGBM",
          "LightGBM",
          "LightGBM",
          "LightGBM",
          "LightGBM",
          "LightGBM",
          "LightGBM",
          "LightGBM",
          "LightGBM",
          "LightGBM",
          "LightGBM",
          "LightGBM",
          "LightGBM",
          "LightGBM",
          "LightGBM",
          "LightGBM",
          "LightGBM",
          "LightGBM",
          "LightGBM",
          "LightGBM",
          "LightGBM",
          "LightGBM",
          "LightGBM",
          "LightGBM",
          "LightGBM",
          "LightGBM",
          "LightGBM",
          "LightGBM",
          "LightGBM",
          "LightGBM",
          "LightGBM",
          "LightGBM",
          "LightGBM",
          "LightGBM",
          "LightGBM",
          "LightGBM",
          "LightGBM",
          "LightGBM",
          "LightGBM",
          "LightGBM",
          "LightGBM",
          "LightGBM",
          "LightGBM",
          "LightGBM",
          "LightGBM",
          "LightGBM",
          "LightGBM",
          "LightGBM",
          "LightGBM",
          "LightGBM",
          "LightGBM",
          "LightGBM",
          "LightGBM",
          "LightGBM",
          "LightGBM",
          "LightGBM",
          "LightGBM",
          "LightGBM",
          "LightGBM",
          "LightGBM",
          "LightGBM",
          "LightGBM",
          "LightGBM",
          "LightGBM",
          "LightGBM",
          "LightGBM",
          "LightGBM",
          "LightGBM",
          "LightGBM",
          "LightGBM",
          "LightGBM",
          "LightGBM",
          "LightGBM",
          "LightGBM",
          "LightGBM",
          "LightGBM",
          "LightGBM",
          "LightGBM",
          "LightGBM",
          "LightGBM",
          "LightGBM",
          "LightGBM",
          "LightGBM",
          "LightGBM",
          "LightGBM",
          "LightGBM",
          "LightGBM",
          "LightGBM",
          "LightGBM",
          "LightGBM",
          "LightGBM",
          "LightGBM",
          "LightGBM",
          "LightGBM",
          "LightGBM",
          "LightGBM",
          "LightGBM",
          "LightGBM",
          "LightGBM",
          "LightGBM",
          "LightGBM",
          "LightGBM",
          "LightGBM",
          "LightGBM",
          "LightGBM",
          "LightGBM",
          "LightGBM",
          "LightGBM",
          "LightGBM",
          "LightGBM",
          "LightGBM",
          "LightGBM",
          "LightGBM",
          "LightGBM",
          "LightGBM",
          "LightGBM",
          "LightGBM",
          "LightGBM",
          "LightGBM",
          "LightGBM",
          "LightGBM",
          "LightGBM",
          "LightGBM",
          "LightGBM",
          "LightGBM",
          "LightGBM",
          "LightGBM",
          "LightGBM",
          "LightGBM",
          "LightGBM",
          "LightGBM",
          "LightGBM",
          "LightGBM",
          "LightGBM",
          "LightGBM",
          "LightGBM",
          "LightGBM",
          "LightGBM",
          "LightGBM",
          "LightGBM",
          "LightGBM",
          "LightGBM",
          "LightGBM",
          "LightGBM",
          "LightGBM",
          "LightGBM",
          "LightGBM",
          "LightGBM",
          "LightGBM",
          "LightGBM",
          "LightGBM",
          "LightGBM",
          "LightGBM",
          "LightGBM",
          "LightGBM",
          "LightGBM",
          "LightGBM",
          "LightGBM",
          "LightGBM",
          "LightGBM",
          "LightGBM",
          "LightGBM",
          "LightGBM",
          "LightGBM",
          "LightGBM",
          "LightGBM",
          "LightGBM",
          "LightGBM",
          "LightGBM",
          "LightGBM",
          "LightGBM",
          "LightGBM",
          "LightGBM",
          "LightGBM",
          "LightGBM",
          "LightGBM",
          "LightGBM",
          "LightGBM",
          "LightGBM",
          "LightGBM",
          "LightGBM",
          "LightGBM",
          "LightGBM",
          "LightGBM",
          "LightGBM",
          "LightGBM",
          "LightGBM",
          "LightGBM",
          "LightGBM",
          "LightGBM",
          "LightGBM",
          "LightGBM",
          "LightGBM",
          "LightGBM",
          "LightGBM",
          "LightGBM",
          "LightGBM"
         ],
         "x0": " ",
         "xaxis": "x",
         "y": {
          "bdata": "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",
          "dtype": "f8"
         },
         "y0": " ",
         "yaxis": "y"
        }
       ],
       "layout": {
        "boxmode": "overlay",
        "font": {
         "size": 12
        },
        "legend": {
         "title": {
          "text": "model"
         },
         "tracegroupgap": 0
        },
        "margin": {
         "t": 60
        },
        "template": {
         "data": {
          "bar": [
           {
            "error_x": {
             "color": "#2a3f5f"
            },
            "error_y": {
             "color": "#2a3f5f"
            },
            "marker": {
             "line": {
              "color": "#E5ECF6",
              "width": 0.5
             },
             "pattern": {
              "fillmode": "overlay",
              "size": 10,
              "solidity": 0.2
             }
            },
            "type": "bar"
           }
          ],
          "barpolar": [
           {
            "marker": {
             "line": {
              "color": "#E5ECF6",
              "width": 0.5
             },
             "pattern": {
              "fillmode": "overlay",
              "size": 10,
              "solidity": 0.2
             }
            },
            "type": "barpolar"
           }
          ],
          "carpet": [
           {
            "aaxis": {
             "endlinecolor": "#2a3f5f",
             "gridcolor": "white",
             "linecolor": "white",
             "minorgridcolor": "white",
             "startlinecolor": "#2a3f5f"
            },
            "baxis": {
             "endlinecolor": "#2a3f5f",
             "gridcolor": "white",
             "linecolor": "white",
             "minorgridcolor": "white",
             "startlinecolor": "#2a3f5f"
            },
            "type": "carpet"
           }
          ],
          "choropleth": [
           {
            "colorbar": {
             "outlinewidth": 0,
             "ticks": ""
            },
            "type": "choropleth"
           }
          ],
          "contour": [
           {
            "colorbar": {
             "outlinewidth": 0,
             "ticks": ""
            },
            "colorscale": [
             [
              0,
              "#0d0887"
             ],
             [
              0.1111111111111111,
              "#46039f"
             ],
             [
              0.2222222222222222,
              "#7201a8"
             ],
             [
              0.3333333333333333,
              "#9c179e"
             ],
             [
              0.4444444444444444,
              "#bd3786"
             ],
             [
              0.5555555555555556,
              "#d8576b"
             ],
             [
              0.6666666666666666,
              "#ed7953"
             ],
             [
              0.7777777777777778,
              "#fb9f3a"
             ],
             [
              0.8888888888888888,
              "#fdca26"
             ],
             [
              1,
              "#f0f921"
             ]
            ],
            "type": "contour"
           }
          ],
          "contourcarpet": [
           {
            "colorbar": {
             "outlinewidth": 0,
             "ticks": ""
            },
            "type": "contourcarpet"
           }
          ],
          "heatmap": [
           {
            "colorbar": {
             "outlinewidth": 0,
             "ticks": ""
            },
            "colorscale": [
             [
              0,
              "#0d0887"
             ],
             [
              0.1111111111111111,
              "#46039f"
             ],
             [
              0.2222222222222222,
              "#7201a8"
             ],
             [
              0.3333333333333333,
              "#9c179e"
             ],
             [
              0.4444444444444444,
              "#bd3786"
             ],
             [
              0.5555555555555556,
              "#d8576b"
             ],
             [
              0.6666666666666666,
              "#ed7953"
             ],
             [
              0.7777777777777778,
              "#fb9f3a"
             ],
             [
              0.8888888888888888,
              "#fdca26"
             ],
             [
              1,
              "#f0f921"
             ]
            ],
            "type": "heatmap"
           }
          ],
          "histogram": [
           {
            "marker": {
             "pattern": {
              "fillmode": "overlay",
              "size": 10,
              "solidity": 0.2
             }
            },
            "type": "histogram"
           }
          ],
          "histogram2d": [
           {
            "colorbar": {
             "outlinewidth": 0,
             "ticks": ""
            },
            "colorscale": [
             [
              0,
              "#0d0887"
             ],
             [
              0.1111111111111111,
              "#46039f"
             ],
             [
              0.2222222222222222,
              "#7201a8"
             ],
             [
              0.3333333333333333,
              "#9c179e"
             ],
             [
              0.4444444444444444,
              "#bd3786"
             ],
             [
              0.5555555555555556,
              "#d8576b"
             ],
             [
              0.6666666666666666,
              "#ed7953"
             ],
             [
              0.7777777777777778,
              "#fb9f3a"
             ],
             [
              0.8888888888888888,
              "#fdca26"
             ],
             [
              1,
              "#f0f921"
             ]
            ],
            "type": "histogram2d"
           }
          ],
          "histogram2dcontour": [
           {
            "colorbar": {
             "outlinewidth": 0,
             "ticks": ""
            },
            "colorscale": [
             [
              0,
              "#0d0887"
             ],
             [
              0.1111111111111111,
              "#46039f"
             ],
             [
              0.2222222222222222,
              "#7201a8"
             ],
             [
              0.3333333333333333,
              "#9c179e"
             ],
             [
              0.4444444444444444,
              "#bd3786"
             ],
             [
              0.5555555555555556,
              "#d8576b"
             ],
             [
              0.6666666666666666,
              "#ed7953"
             ],
             [
              0.7777777777777778,
              "#fb9f3a"
             ],
             [
              0.8888888888888888,
              "#fdca26"
             ],
             [
              1,
              "#f0f921"
             ]
            ],
            "type": "histogram2dcontour"
           }
          ],
          "mesh3d": [
           {
            "colorbar": {
             "outlinewidth": 0,
             "ticks": ""
            },
            "type": "mesh3d"
           }
          ],
          "parcoords": [
           {
            "line": {
             "colorbar": {
              "outlinewidth": 0,
              "ticks": ""
             }
            },
            "type": "parcoords"
           }
          ],
          "pie": [
           {
            "automargin": true,
            "type": "pie"
           }
          ],
          "scatter": [
           {
            "fillpattern": {
             "fillmode": "overlay",
             "size": 10,
             "solidity": 0.2
            },
            "type": "scatter"
           }
          ],
          "scatter3d": [
           {
            "line": {
             "colorbar": {
              "outlinewidth": 0,
              "ticks": ""
             }
            },
            "marker": {
             "colorbar": {
              "outlinewidth": 0,
              "ticks": ""
             }
            },
            "type": "scatter3d"
           }
          ],
          "scattercarpet": [
           {
            "marker": {
             "colorbar": {
              "outlinewidth": 0,
              "ticks": ""
             }
            },
            "type": "scattercarpet"
           }
          ],
          "scattergeo": [
           {
            "marker": {
             "colorbar": {
              "outlinewidth": 0,
              "ticks": ""
             }
            },
            "type": "scattergeo"
           }
          ],
          "scattergl": [
           {
            "marker": {
             "colorbar": {
              "outlinewidth": 0,
              "ticks": ""
             }
            },
            "type": "scattergl"
           }
          ],
          "scattermap": [
           {
            "marker": {
             "colorbar": {
              "outlinewidth": 0,
              "ticks": ""
             }
            },
            "type": "scattermap"
           }
          ],
          "scattermapbox": [
           {
            "marker": {
             "colorbar": {
              "outlinewidth": 0,
              "ticks": ""
             }
            },
            "type": "scattermapbox"
           }
          ],
          "scatterpolar": [
           {
            "marker": {
             "colorbar": {
              "outlinewidth": 0,
              "ticks": ""
             }
            },
            "type": "scatterpolar"
           }
          ],
          "scatterpolargl": [
           {
            "marker": {
             "colorbar": {
              "outlinewidth": 0,
              "ticks": ""
             }
            },
            "type": "scatterpolargl"
           }
          ],
          "scatterternary": [
           {
            "marker": {
             "colorbar": {
              "outlinewidth": 0,
              "ticks": ""
             }
            },
            "type": "scatterternary"
           }
          ],
          "surface": [
           {
            "colorbar": {
             "outlinewidth": 0,
             "ticks": ""
            },
            "colorscale": [
             [
              0,
              "#0d0887"
             ],
             [
              0.1111111111111111,
              "#46039f"
             ],
             [
              0.2222222222222222,
              "#7201a8"
             ],
             [
              0.3333333333333333,
              "#9c179e"
             ],
             [
              0.4444444444444444,
              "#bd3786"
             ],
             [
              0.5555555555555556,
              "#d8576b"
             ],
             [
              0.6666666666666666,
              "#ed7953"
             ],
             [
              0.7777777777777778,
              "#fb9f3a"
             ],
             [
              0.8888888888888888,
              "#fdca26"
             ],
             [
              1,
              "#f0f921"
             ]
            ],
            "type": "surface"
           }
          ],
          "table": [
           {
            "cells": {
             "fill": {
              "color": "#EBF0F8"
             },
             "line": {
              "color": "white"
             }
            },
            "header": {
             "fill": {
              "color": "#C8D4E3"
             },
             "line": {
              "color": "white"
             }
            },
            "type": "table"
           }
          ]
         },
         "layout": {
          "annotationdefaults": {
           "arrowcolor": "#2a3f5f",
           "arrowhead": 0,
           "arrowwidth": 1
          },
          "autotypenumbers": "strict",
          "coloraxis": {
           "colorbar": {
            "outlinewidth": 0,
            "ticks": ""
           }
          },
          "colorscale": {
           "diverging": [
            [
             0,
             "#8e0152"
            ],
            [
             0.1,
             "#c51b7d"
            ],
            [
             0.2,
             "#de77ae"
            ],
            [
             0.3,
             "#f1b6da"
            ],
            [
             0.4,
             "#fde0ef"
            ],
            [
             0.5,
             "#f7f7f7"
            ],
            [
             0.6,
             "#e6f5d0"
            ],
            [
             0.7,
             "#b8e186"
            ],
            [
             0.8,
             "#7fbc41"
            ],
            [
             0.9,
             "#4d9221"
            ],
            [
             1,
             "#276419"
            ]
           ],
           "sequential": [
            [
             0,
             "#0d0887"
            ],
            [
             0.1111111111111111,
             "#46039f"
            ],
            [
             0.2222222222222222,
             "#7201a8"
            ],
            [
             0.3333333333333333,
             "#9c179e"
            ],
            [
             0.4444444444444444,
             "#bd3786"
            ],
            [
             0.5555555555555556,
             "#d8576b"
            ],
            [
             0.6666666666666666,
             "#ed7953"
            ],
            [
             0.7777777777777778,
             "#fb9f3a"
            ],
            [
             0.8888888888888888,
             "#fdca26"
            ],
            [
             1,
             "#f0f921"
            ]
           ],
           "sequentialminus": [
            [
             0,
             "#0d0887"
            ],
            [
             0.1111111111111111,
             "#46039f"
            ],
            [
             0.2222222222222222,
             "#7201a8"
            ],
            [
             0.3333333333333333,
             "#9c179e"
            ],
            [
             0.4444444444444444,
             "#bd3786"
            ],
            [
             0.5555555555555556,
             "#d8576b"
            ],
            [
             0.6666666666666666,
             "#ed7953"
            ],
            [
             0.7777777777777778,
             "#fb9f3a"
            ],
            [
             0.8888888888888888,
             "#fdca26"
            ],
            [
             1,
             "#f0f921"
            ]
           ]
          },
          "colorway": [
           "#636efa",
           "#EF553B",
           "#00cc96",
           "#ab63fa",
           "#FFA15A",
           "#19d3f3",
           "#FF6692",
           "#B6E880",
           "#FF97FF",
           "#FECB52"
          ],
          "font": {
           "color": "#2a3f5f"
          },
          "geo": {
           "bgcolor": "white",
           "lakecolor": "white",
           "landcolor": "#E5ECF6",
           "showlakes": true,
           "showland": true,
           "subunitcolor": "white"
          },
          "hoverlabel": {
           "align": "left"
          },
          "hovermode": "closest",
          "mapbox": {
           "style": "light"
          },
          "paper_bgcolor": "white",
          "plot_bgcolor": "#E5ECF6",
          "polar": {
           "angularaxis": {
            "gridcolor": "white",
            "linecolor": "white",
            "ticks": ""
           },
           "bgcolor": "#E5ECF6",
           "radialaxis": {
            "gridcolor": "white",
            "linecolor": "white",
            "ticks": ""
           }
          },
          "scene": {
           "xaxis": {
            "backgroundcolor": "#E5ECF6",
            "gridcolor": "white",
            "gridwidth": 2,
            "linecolor": "white",
            "showbackground": true,
            "ticks": "",
            "zerolinecolor": "white"
           },
           "yaxis": {
            "backgroundcolor": "#E5ECF6",
            "gridcolor": "white",
            "gridwidth": 2,
            "linecolor": "white",
            "showbackground": true,
            "ticks": "",
            "zerolinecolor": "white"
           },
           "zaxis": {
            "backgroundcolor": "#E5ECF6",
            "gridcolor": "white",
            "gridwidth": 2,
            "linecolor": "white",
            "showbackground": true,
            "ticks": "",
            "zerolinecolor": "white"
           }
          },
          "shapedefaults": {
           "line": {
            "color": "#2a3f5f"
           }
          },
          "ternary": {
           "aaxis": {
            "gridcolor": "white",
            "linecolor": "white",
            "ticks": ""
           },
           "baxis": {
            "gridcolor": "white",
            "linecolor": "white",
            "ticks": ""
           },
           "bgcolor": "#E5ECF6",
           "caxis": {
            "gridcolor": "white",
            "linecolor": "white",
            "ticks": ""
           }
          },
          "title": {
           "x": 0.05
          },
          "xaxis": {
           "automargin": true,
           "gridcolor": "white",
           "linecolor": "white",
           "ticks": "",
           "title": {
            "standoff": 15
           },
           "zerolinecolor": "white",
           "zerolinewidth": 2
          },
          "yaxis": {
           "automargin": true,
           "gridcolor": "white",
           "linecolor": "white",
           "ticks": "",
           "title": {
            "standoff": 15
           },
           "zerolinecolor": "white",
           "zerolinewidth": 2
          }
         }
        },
        "title": {
         "text": "Model Comparison: val_MAE Distribution"
        },
        "xaxis": {
         "anchor": "y",
         "categoryarray": [
          "XGBoost",
          "LightGBM"
         ],
         "categoryorder": "array",
         "domain": [
          0,
          1
         ],
         "title": {
          "text": "Model"
         }
        },
        "yaxis": {
         "anchor": "x",
         "domain": [
          0,
          1
         ],
         "title": {
          "text": "val_MAE"
         }
        }
       }
      }
     },
     "metadata": {},
     "output_type": "display_data"
    },
    {
     "data": {
      "application/vnd.plotly.v1+json": {
       "config": {
        "plotlyServerURL": "https://plot.ly"
       },
       "data": [
        {
         "alignmentgroup": "True",
         "hovertemplate": "model=%{x}<br>val_MAPE=%{y}<extra></extra>",
         "legendgroup": "XGBoost",
         "marker": {
          "color": "#ff7f0e"
         },
         "name": "XGBoost",
         "notched": false,
         "offsetgroup": "XGBoost",
         "orientation": "v",
         "showlegend": true,
         "type": "box",
         "x": [
          "XGBoost",
          "XGBoost",
          "XGBoost",
          "XGBoost",
          "XGBoost",
          "XGBoost",
          "XGBoost",
          "XGBoost",
          "XGBoost",
          "XGBoost",
          "XGBoost",
          "XGBoost",
          "XGBoost",
          "XGBoost",
          "XGBoost",
          "XGBoost",
          "XGBoost",
          "XGBoost",
          "XGBoost",
          "XGBoost",
          "XGBoost",
          "XGBoost",
          "XGBoost",
          "XGBoost",
          "XGBoost",
          "XGBoost",
          "XGBoost",
          "XGBoost",
          "XGBoost",
          "XGBoost",
          "XGBoost",
          "XGBoost",
          "XGBoost",
          "XGBoost",
          "XGBoost",
          "XGBoost",
          "XGBoost",
          "XGBoost",
          "XGBoost",
          "XGBoost",
          "XGBoost",
          "XGBoost",
          "XGBoost",
          "XGBoost",
          "XGBoost",
          "XGBoost",
          "XGBoost",
          "XGBoost",
          "XGBoost",
          "XGBoost",
          "XGBoost",
          "XGBoost",
          "XGBoost",
          "XGBoost",
          "XGBoost",
          "XGBoost",
          "XGBoost",
          "XGBoost",
          "XGBoost",
          "XGBoost",
          "XGBoost",
          "XGBoost",
          "XGBoost",
          "XGBoost",
          "XGBoost",
          "XGBoost",
          "XGBoost",
          "XGBoost",
          "XGBoost",
          "XGBoost",
          "XGBoost",
          "XGBoost",
          "XGBoost",
          "XGBoost",
          "XGBoost",
          "XGBoost",
          "XGBoost",
          "XGBoost",
          "XGBoost",
          "XGBoost",
          "XGBoost",
          "XGBoost",
          "XGBoost",
          "XGBoost",
          "XGBoost",
          "XGBoost",
          "XGBoost",
          "XGBoost",
          "XGBoost",
          "XGBoost",
          "XGBoost",
          "XGBoost",
          "XGBoost",
          "XGBoost",
          "XGBoost",
          "XGBoost",
          "XGBoost",
          "XGBoost",
          "XGBoost",
          "XGBoost",
          "XGBoost",
          "XGBoost",
          "XGBoost",
          "XGBoost",
          "XGBoost",
          "XGBoost",
          "XGBoost",
          "XGBoost",
          "XGBoost",
          "XGBoost",
          "XGBoost",
          "XGBoost",
          "XGBoost",
          "XGBoost",
          "XGBoost",
          "XGBoost",
          "XGBoost",
          "XGBoost",
          "XGBoost",
          "XGBoost",
          "XGBoost",
          "XGBoost",
          "XGBoost",
          "XGBoost",
          "XGBoost",
          "XGBoost",
          "XGBoost",
          "XGBoost",
          "XGBoost",
          "XGBoost",
          "XGBoost",
          "XGBoost",
          "XGBoost",
          "XGBoost",
          "XGBoost",
          "XGBoost",
          "XGBoost",
          "XGBoost",
          "XGBoost",
          "XGBoost",
          "XGBoost",
          "XGBoost",
          "XGBoost",
          "XGBoost",
          "XGBoost",
          "XGBoost",
          "XGBoost",
          "XGBoost",
          "XGBoost",
          "XGBoost",
          "XGBoost",
          "XGBoost",
          "XGBoost",
          "XGBoost",
          "XGBoost",
          "XGBoost",
          "XGBoost",
          "XGBoost",
          "XGBoost",
          "XGBoost",
          "XGBoost",
          "XGBoost",
          "XGBoost",
          "XGBoost",
          "XGBoost",
          "XGBoost",
          "XGBoost",
          "XGBoost",
          "XGBoost",
          "XGBoost",
          "XGBoost",
          "XGBoost",
          "XGBoost",
          "XGBoost",
          "XGBoost",
          "XGBoost",
          "XGBoost",
          "XGBoost",
          "XGBoost",
          "XGBoost",
          "XGBoost",
          "XGBoost",
          "XGBoost",
          "XGBoost",
          "XGBoost",
          "XGBoost",
          "XGBoost",
          "XGBoost",
          "XGBoost",
          "XGBoost",
          "XGBoost",
          "XGBoost",
          "XGBoost",
          "XGBoost",
          "XGBoost",
          "XGBoost",
          "XGBoost",
          "XGBoost",
          "XGBoost",
          "XGBoost",
          "XGBoost",
          "XGBoost",
          "XGBoost",
          "XGBoost",
          "XGBoost",
          "XGBoost",
          "XGBoost",
          "XGBoost",
          "XGBoost",
          "XGBoost",
          "XGBoost",
          "XGBoost",
          "XGBoost",
          "XGBoost",
          "XGBoost",
          "XGBoost",
          "XGBoost",
          "XGBoost",
          "XGBoost",
          "XGBoost",
          "XGBoost",
          "XGBoost",
          "XGBoost",
          "XGBoost",
          "XGBoost",
          "XGBoost",
          "XGBoost",
          "XGBoost",
          "XGBoost",
          "XGBoost",
          "XGBoost",
          "XGBoost",
          "XGBoost",
          "XGBoost",
          "XGBoost",
          "XGBoost",
          "XGBoost",
          "XGBoost",
          "XGBoost",
          "XGBoost",
          "XGBoost",
          "XGBoost",
          "XGBoost",
          "XGBoost",
          "XGBoost",
          "XGBoost",
          "XGBoost",
          "XGBoost",
          "XGBoost",
          "XGBoost",
          "XGBoost",
          "XGBoost",
          "XGBoost",
          "XGBoost",
          "XGBoost",
          "XGBoost",
          "XGBoost",
          "XGBoost",
          "XGBoost",
          "XGBoost",
          "XGBoost",
          "XGBoost",
          "XGBoost",
          "XGBoost",
          "XGBoost",
          "XGBoost",
          "XGBoost",
          "XGBoost",
          "XGBoost",
          "XGBoost",
          "XGBoost",
          "XGBoost",
          "XGBoost",
          "XGBoost",
          "XGBoost",
          "XGBoost",
          "XGBoost",
          "XGBoost",
          "XGBoost",
          "XGBoost",
          "XGBoost",
          "XGBoost",
          "XGBoost",
          "XGBoost",
          "XGBoost",
          "XGBoost",
          "XGBoost",
          "XGBoost",
          "XGBoost",
          "XGBoost",
          "XGBoost",
          "XGBoost",
          "XGBoost",
          "XGBoost",
          "XGBoost",
          "XGBoost",
          "XGBoost",
          "XGBoost",
          "XGBoost",
          "XGBoost",
          "XGBoost",
          "XGBoost",
          "XGBoost",
          "XGBoost",
          "XGBoost",
          "XGBoost",
          "XGBoost",
          "XGBoost",
          "XGBoost",
          "XGBoost",
          "XGBoost",
          "XGBoost",
          "XGBoost",
          "XGBoost",
          "XGBoost",
          "XGBoost",
          "XGBoost",
          "XGBoost",
          "XGBoost",
          "XGBoost",
          "XGBoost",
          "XGBoost",
          "XGBoost",
          "XGBoost",
          "XGBoost",
          "XGBoost",
          "XGBoost",
          "XGBoost",
          "XGBoost",
          "XGBoost",
          "XGBoost",
          "XGBoost",
          "XGBoost",
          "XGBoost",
          "XGBoost",
          "XGBoost",
          "XGBoost",
          "XGBoost",
          "XGBoost",
          "XGBoost",
          "XGBoost",
          "XGBoost",
          "XGBoost",
          "XGBoost",
          "XGBoost",
          "XGBoost",
          "XGBoost",
          "XGBoost",
          "XGBoost",
          "XGBoost",
          "XGBoost",
          "XGBoost",
          "XGBoost",
          "XGBoost",
          "XGBoost",
          "XGBoost",
          "XGBoost",
          "XGBoost",
          "XGBoost",
          "XGBoost",
          "XGBoost",
          "XGBoost",
          "XGBoost",
          "XGBoost",
          "XGBoost",
          "XGBoost",
          "XGBoost",
          "XGBoost",
          "XGBoost",
          "XGBoost",
          "XGBoost",
          "XGBoost",
          "XGBoost",
          "XGBoost",
          "XGBoost",
          "XGBoost",
          "XGBoost",
          "XGBoost",
          "XGBoost",
          "XGBoost",
          "XGBoost",
          "XGBoost",
          "XGBoost",
          "XGBoost",
          "XGBoost",
          "XGBoost",
          "XGBoost",
          "XGBoost",
          "XGBoost",
          "XGBoost",
          "XGBoost",
          "XGBoost",
          "XGBoost",
          "XGBoost",
          "XGBoost",
          "XGBoost",
          "XGBoost",
          "XGBoost",
          "XGBoost",
          "XGBoost",
          "XGBoost",
          "XGBoost",
          "XGBoost",
          "XGBoost",
          "XGBoost",
          "XGBoost",
          "XGBoost",
          "XGBoost",
          "XGBoost",
          "XGBoost",
          "XGBoost",
          "XGBoost",
          "XGBoost",
          "XGBoost",
          "XGBoost",
          "XGBoost",
          "XGBoost",
          "XGBoost",
          "XGBoost",
          "XGBoost",
          "XGBoost",
          "XGBoost",
          "XGBoost",
          "XGBoost",
          "XGBoost",
          "XGBoost",
          "XGBoost",
          "XGBoost",
          "XGBoost",
          "XGBoost",
          "XGBoost",
          "XGBoost",
          "XGBoost",
          "XGBoost",
          "XGBoost",
          "XGBoost",
          "XGBoost",
          "XGBoost",
          "XGBoost",
          "XGBoost",
          "XGBoost",
          "XGBoost",
          "XGBoost",
          "XGBoost",
          "XGBoost",
          "XGBoost",
          "XGBoost",
          "XGBoost",
          "XGBoost",
          "XGBoost",
          "XGBoost",
          "XGBoost",
          "XGBoost",
          "XGBoost",
          "XGBoost",
          "XGBoost",
          "XGBoost",
          "XGBoost",
          "XGBoost",
          "XGBoost",
          "XGBoost",
          "XGBoost",
          "XGBoost",
          "XGBoost",
          "XGBoost",
          "XGBoost",
          "XGBoost",
          "XGBoost",
          "XGBoost",
          "XGBoost",
          "XGBoost",
          "XGBoost",
          "XGBoost",
          "XGBoost",
          "XGBoost",
          "XGBoost",
          "XGBoost",
          "XGBoost",
          "XGBoost",
          "XGBoost",
          "XGBoost",
          "XGBoost",
          "XGBoost",
          "XGBoost",
          "XGBoost",
          "XGBoost",
          "XGBoost",
          "XGBoost",
          "XGBoost",
          "XGBoost",
          "XGBoost",
          "XGBoost",
          "XGBoost",
          "XGBoost",
          "XGBoost",
          "XGBoost",
          "XGBoost",
          "XGBoost",
          "XGBoost",
          "XGBoost",
          "XGBoost",
          "XGBoost",
          "XGBoost",
          "XGBoost",
          "XGBoost",
          "XGBoost",
          "XGBoost",
          "XGBoost",
          "XGBoost",
          "XGBoost",
          "XGBoost",
          "XGBoost",
          "XGBoost",
          "XGBoost",
          "XGBoost",
          "XGBoost",
          "XGBoost",
          "XGBoost",
          "XGBoost",
          "XGBoost",
          "XGBoost",
          "XGBoost",
          "XGBoost",
          "XGBoost",
          "XGBoost",
          "XGBoost",
          "XGBoost",
          "XGBoost",
          "XGBoost",
          "XGBoost",
          "XGBoost",
          "XGBoost",
          "XGBoost",
          "XGBoost",
          "XGBoost",
          "XGBoost",
          "XGBoost",
          "XGBoost",
          "XGBoost",
          "XGBoost",
          "XGBoost",
          "XGBoost",
          "XGBoost",
          "XGBoost",
          "XGBoost",
          "XGBoost",
          "XGBoost",
          "XGBoost",
          "XGBoost",
          "XGBoost",
          "XGBoost",
          "XGBoost",
          "XGBoost",
          "XGBoost",
          "XGBoost",
          "XGBoost",
          "XGBoost",
          "XGBoost",
          "XGBoost",
          "XGBoost",
          "XGBoost",
          "XGBoost",
          "XGBoost",
          "XGBoost",
          "XGBoost",
          "XGBoost",
          "XGBoost",
          "XGBoost",
          "XGBoost",
          "XGBoost",
          "XGBoost",
          "XGBoost",
          "XGBoost",
          "XGBoost",
          "XGBoost",
          "XGBoost",
          "XGBoost",
          "XGBoost",
          "XGBoost",
          "XGBoost",
          "XGBoost",
          "XGBoost",
          "XGBoost",
          "XGBoost",
          "XGBoost",
          "XGBoost",
          "XGBoost",
          "XGBoost",
          "XGBoost",
          "XGBoost",
          "XGBoost",
          "XGBoost",
          "XGBoost",
          "XGBoost"
         ],
         "x0": " ",
         "xaxis": "x",
         "y": {
          "bdata": "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",
          "dtype": "f8"
         },
         "y0": " ",
         "yaxis": "y"
        },
        {
         "alignmentgroup": "True",
         "hovertemplate": "model=%{x}<br>val_MAPE=%{y}<extra></extra>",
         "legendgroup": "LightGBM",
         "marker": {
          "color": "#1f77b4"
         },
         "name": "LightGBM",
         "notched": false,
         "offsetgroup": "LightGBM",
         "orientation": "v",
         "showlegend": true,
         "type": "box",
         "x": [
          "LightGBM",
          "LightGBM",
          "LightGBM",
          "LightGBM",
          "LightGBM",
          "LightGBM",
          "LightGBM",
          "LightGBM",
          "LightGBM",
          "LightGBM",
          "LightGBM",
          "LightGBM",
          "LightGBM",
          "LightGBM",
          "LightGBM",
          "LightGBM",
          "LightGBM",
          "LightGBM",
          "LightGBM",
          "LightGBM",
          "LightGBM",
          "LightGBM",
          "LightGBM",
          "LightGBM",
          "LightGBM",
          "LightGBM",
          "LightGBM",
          "LightGBM",
          "LightGBM",
          "LightGBM",
          "LightGBM",
          "LightGBM",
          "LightGBM",
          "LightGBM",
          "LightGBM",
          "LightGBM",
          "LightGBM",
          "LightGBM",
          "LightGBM",
          "LightGBM",
          "LightGBM",
          "LightGBM",
          "LightGBM",
          "LightGBM",
          "LightGBM",
          "LightGBM",
          "LightGBM",
          "LightGBM",
          "LightGBM",
          "LightGBM",
          "LightGBM",
          "LightGBM",
          "LightGBM",
          "LightGBM",
          "LightGBM",
          "LightGBM",
          "LightGBM",
          "LightGBM",
          "LightGBM",
          "LightGBM",
          "LightGBM",
          "LightGBM",
          "LightGBM",
          "LightGBM",
          "LightGBM",
          "LightGBM",
          "LightGBM",
          "LightGBM",
          "LightGBM",
          "LightGBM",
          "LightGBM",
          "LightGBM",
          "LightGBM",
          "LightGBM",
          "LightGBM",
          "LightGBM",
          "LightGBM",
          "LightGBM",
          "LightGBM",
          "LightGBM",
          "LightGBM",
          "LightGBM",
          "LightGBM",
          "LightGBM",
          "LightGBM",
          "LightGBM",
          "LightGBM",
          "LightGBM",
          "LightGBM",
          "LightGBM",
          "LightGBM",
          "LightGBM",
          "LightGBM",
          "LightGBM",
          "LightGBM",
          "LightGBM",
          "LightGBM",
          "LightGBM",
          "LightGBM",
          "LightGBM",
          "LightGBM",
          "LightGBM",
          "LightGBM",
          "LightGBM",
          "LightGBM",
          "LightGBM",
          "LightGBM",
          "LightGBM",
          "LightGBM",
          "LightGBM",
          "LightGBM",
          "LightGBM",
          "LightGBM",
          "LightGBM",
          "LightGBM",
          "LightGBM",
          "LightGBM",
          "LightGBM",
          "LightGBM",
          "LightGBM",
          "LightGBM",
          "LightGBM",
          "LightGBM",
          "LightGBM",
          "LightGBM",
          "LightGBM",
          "LightGBM",
          "LightGBM",
          "LightGBM",
          "LightGBM",
          "LightGBM",
          "LightGBM",
          "LightGBM",
          "LightGBM",
          "LightGBM",
          "LightGBM",
          "LightGBM",
          "LightGBM",
          "LightGBM",
          "LightGBM",
          "LightGBM",
          "LightGBM",
          "LightGBM",
          "LightGBM",
          "LightGBM",
          "LightGBM",
          "LightGBM",
          "LightGBM",
          "LightGBM",
          "LightGBM",
          "LightGBM",
          "LightGBM",
          "LightGBM",
          "LightGBM",
          "LightGBM",
          "LightGBM",
          "LightGBM",
          "LightGBM",
          "LightGBM",
          "LightGBM",
          "LightGBM",
          "LightGBM",
          "LightGBM",
          "LightGBM",
          "LightGBM",
          "LightGBM",
          "LightGBM",
          "LightGBM",
          "LightGBM",
          "LightGBM",
          "LightGBM",
          "LightGBM",
          "LightGBM",
          "LightGBM",
          "LightGBM",
          "LightGBM",
          "LightGBM",
          "LightGBM",
          "LightGBM",
          "LightGBM",
          "LightGBM",
          "LightGBM",
          "LightGBM",
          "LightGBM",
          "LightGBM",
          "LightGBM",
          "LightGBM",
          "LightGBM",
          "LightGBM",
          "LightGBM",
          "LightGBM",
          "LightGBM",
          "LightGBM",
          "LightGBM",
          "LightGBM",
          "LightGBM",
          "LightGBM",
          "LightGBM",
          "LightGBM",
          "LightGBM",
          "LightGBM",
          "LightGBM",
          "LightGBM",
          "LightGBM",
          "LightGBM",
          "LightGBM",
          "LightGBM",
          "LightGBM",
          "LightGBM",
          "LightGBM",
          "LightGBM",
          "LightGBM",
          "LightGBM",
          "LightGBM",
          "LightGBM",
          "LightGBM",
          "LightGBM",
          "LightGBM",
          "LightGBM",
          "LightGBM",
          "LightGBM",
          "LightGBM",
          "LightGBM",
          "LightGBM",
          "LightGBM",
          "LightGBM",
          "LightGBM",
          "LightGBM",
          "LightGBM",
          "LightGBM",
          "LightGBM",
          "LightGBM",
          "LightGBM",
          "LightGBM",
          "LightGBM",
          "LightGBM",
          "LightGBM",
          "LightGBM",
          "LightGBM",
          "LightGBM",
          "LightGBM",
          "LightGBM",
          "LightGBM",
          "LightGBM",
          "LightGBM",
          "LightGBM",
          "LightGBM",
          "LightGBM",
          "LightGBM",
          "LightGBM",
          "LightGBM",
          "LightGBM",
          "LightGBM",
          "LightGBM",
          "LightGBM",
          "LightGBM",
          "LightGBM",
          "LightGBM",
          "LightGBM",
          "LightGBM",
          "LightGBM",
          "LightGBM",
          "LightGBM",
          "LightGBM",
          "LightGBM",
          "LightGBM",
          "LightGBM",
          "LightGBM",
          "LightGBM",
          "LightGBM",
          "LightGBM",
          "LightGBM",
          "LightGBM",
          "LightGBM",
          "LightGBM",
          "LightGBM",
          "LightGBM",
          "LightGBM",
          "LightGBM",
          "LightGBM",
          "LightGBM",
          "LightGBM",
          "LightGBM",
          "LightGBM",
          "LightGBM",
          "LightGBM",
          "LightGBM",
          "LightGBM",
          "LightGBM",
          "LightGBM",
          "LightGBM",
          "LightGBM",
          "LightGBM",
          "LightGBM",
          "LightGBM",
          "LightGBM",
          "LightGBM",
          "LightGBM",
          "LightGBM",
          "LightGBM",
          "LightGBM",
          "LightGBM",
          "LightGBM",
          "LightGBM",
          "LightGBM",
          "LightGBM",
          "LightGBM",
          "LightGBM",
          "LightGBM",
          "LightGBM",
          "LightGBM",
          "LightGBM",
          "LightGBM",
          "LightGBM",
          "LightGBM",
          "LightGBM",
          "LightGBM",
          "LightGBM",
          "LightGBM",
          "LightGBM",
          "LightGBM",
          "LightGBM",
          "LightGBM",
          "LightGBM",
          "LightGBM",
          "LightGBM",
          "LightGBM",
          "LightGBM",
          "LightGBM",
          "LightGBM",
          "LightGBM",
          "LightGBM",
          "LightGBM",
          "LightGBM",
          "LightGBM",
          "LightGBM",
          "LightGBM",
          "LightGBM",
          "LightGBM",
          "LightGBM",
          "LightGBM",
          "LightGBM",
          "LightGBM",
          "LightGBM",
          "LightGBM",
          "LightGBM",
          "LightGBM",
          "LightGBM",
          "LightGBM",
          "LightGBM",
          "LightGBM",
          "LightGBM",
          "LightGBM",
          "LightGBM",
          "LightGBM",
          "LightGBM",
          "LightGBM",
          "LightGBM",
          "LightGBM",
          "LightGBM",
          "LightGBM",
          "LightGBM",
          "LightGBM",
          "LightGBM",
          "LightGBM",
          "LightGBM",
          "LightGBM",
          "LightGBM",
          "LightGBM",
          "LightGBM",
          "LightGBM",
          "LightGBM",
          "LightGBM",
          "LightGBM",
          "LightGBM",
          "LightGBM",
          "LightGBM",
          "LightGBM",
          "LightGBM",
          "LightGBM",
          "LightGBM",
          "LightGBM",
          "LightGBM",
          "LightGBM",
          "LightGBM",
          "LightGBM",
          "LightGBM",
          "LightGBM",
          "LightGBM",
          "LightGBM",
          "LightGBM",
          "LightGBM",
          "LightGBM",
          "LightGBM",
          "LightGBM",
          "LightGBM",
          "LightGBM",
          "LightGBM",
          "LightGBM",
          "LightGBM",
          "LightGBM",
          "LightGBM",
          "LightGBM",
          "LightGBM",
          "LightGBM",
          "LightGBM",
          "LightGBM",
          "LightGBM",
          "LightGBM",
          "LightGBM",
          "LightGBM",
          "LightGBM",
          "LightGBM",
          "LightGBM",
          "LightGBM",
          "LightGBM",
          "LightGBM",
          "LightGBM",
          "LightGBM",
          "LightGBM",
          "LightGBM",
          "LightGBM",
          "LightGBM",
          "LightGBM",
          "LightGBM",
          "LightGBM",
          "LightGBM",
          "LightGBM",
          "LightGBM",
          "LightGBM",
          "LightGBM",
          "LightGBM",
          "LightGBM",
          "LightGBM",
          "LightGBM",
          "LightGBM",
          "LightGBM",
          "LightGBM",
          "LightGBM",
          "LightGBM",
          "LightGBM",
          "LightGBM",
          "LightGBM",
          "LightGBM",
          "LightGBM",
          "LightGBM",
          "LightGBM",
          "LightGBM",
          "LightGBM",
          "LightGBM",
          "LightGBM",
          "LightGBM",
          "LightGBM",
          "LightGBM",
          "LightGBM",
          "LightGBM",
          "LightGBM",
          "LightGBM",
          "LightGBM",
          "LightGBM",
          "LightGBM",
          "LightGBM",
          "LightGBM",
          "LightGBM",
          "LightGBM",
          "LightGBM",
          "LightGBM",
          "LightGBM",
          "LightGBM",
          "LightGBM",
          "LightGBM",
          "LightGBM",
          "LightGBM",
          "LightGBM",
          "LightGBM",
          "LightGBM",
          "LightGBM",
          "LightGBM",
          "LightGBM",
          "LightGBM",
          "LightGBM",
          "LightGBM",
          "LightGBM",
          "LightGBM",
          "LightGBM",
          "LightGBM",
          "LightGBM",
          "LightGBM",
          "LightGBM",
          "LightGBM",
          "LightGBM",
          "LightGBM",
          "LightGBM",
          "LightGBM",
          "LightGBM",
          "LightGBM",
          "LightGBM",
          "LightGBM",
          "LightGBM",
          "LightGBM",
          "LightGBM",
          "LightGBM",
          "LightGBM",
          "LightGBM",
          "LightGBM",
          "LightGBM",
          "LightGBM",
          "LightGBM",
          "LightGBM",
          "LightGBM",
          "LightGBM",
          "LightGBM",
          "LightGBM",
          "LightGBM",
          "LightGBM",
          "LightGBM",
          "LightGBM",
          "LightGBM",
          "LightGBM",
          "LightGBM",
          "LightGBM",
          "LightGBM",
          "LightGBM",
          "LightGBM",
          "LightGBM",
          "LightGBM",
          "LightGBM",
          "LightGBM",
          "LightGBM",
          "LightGBM",
          "LightGBM",
          "LightGBM",
          "LightGBM",
          "LightGBM",
          "LightGBM",
          "LightGBM",
          "LightGBM",
          "LightGBM",
          "LightGBM",
          "LightGBM",
          "LightGBM",
          "LightGBM",
          "LightGBM",
          "LightGBM",
          "LightGBM",
          "LightGBM",
          "LightGBM",
          "LightGBM",
          "LightGBM",
          "LightGBM",
          "LightGBM",
          "LightGBM",
          "LightGBM",
          "LightGBM",
          "LightGBM",
          "LightGBM",
          "LightGBM",
          "LightGBM",
          "LightGBM",
          "LightGBM",
          "LightGBM",
          "LightGBM",
          "LightGBM",
          "LightGBM",
          "LightGBM",
          "LightGBM",
          "LightGBM",
          "LightGBM",
          "LightGBM",
          "LightGBM",
          "LightGBM",
          "LightGBM",
          "LightGBM",
          "LightGBM",
          "LightGBM",
          "LightGBM",
          "LightGBM",
          "LightGBM",
          "LightGBM",
          "LightGBM",
          "LightGBM",
          "LightGBM",
          "LightGBM",
          "LightGBM",
          "LightGBM",
          "LightGBM",
          "LightGBM",
          "LightGBM",
          "LightGBM",
          "LightGBM",
          "LightGBM",
          "LightGBM",
          "LightGBM",
          "LightGBM"
         ],
         "x0": " ",
         "xaxis": "x",
         "y": {
          "bdata": "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",
          "dtype": "f8"
         },
         "y0": " ",
         "yaxis": "y"
        }
       ],
       "layout": {
        "boxmode": "overlay",
        "font": {
         "size": 12
        },
        "legend": {
         "title": {
          "text": "model"
         },
         "tracegroupgap": 0
        },
        "margin": {
         "t": 60
        },
        "template": {
         "data": {
          "bar": [
           {
            "error_x": {
             "color": "#2a3f5f"
            },
            "error_y": {
             "color": "#2a3f5f"
            },
            "marker": {
             "line": {
              "color": "#E5ECF6",
              "width": 0.5
             },
             "pattern": {
              "fillmode": "overlay",
              "size": 10,
              "solidity": 0.2
             }
            },
            "type": "bar"
           }
          ],
          "barpolar": [
           {
            "marker": {
             "line": {
              "color": "#E5ECF6",
              "width": 0.5
             },
             "pattern": {
              "fillmode": "overlay",
              "size": 10,
              "solidity": 0.2
             }
            },
            "type": "barpolar"
           }
          ],
          "carpet": [
           {
            "aaxis": {
             "endlinecolor": "#2a3f5f",
             "gridcolor": "white",
             "linecolor": "white",
             "minorgridcolor": "white",
             "startlinecolor": "#2a3f5f"
            },
            "baxis": {
             "endlinecolor": "#2a3f5f",
             "gridcolor": "white",
             "linecolor": "white",
             "minorgridcolor": "white",
             "startlinecolor": "#2a3f5f"
            },
            "type": "carpet"
           }
          ],
          "choropleth": [
           {
            "colorbar": {
             "outlinewidth": 0,
             "ticks": ""
            },
            "type": "choropleth"
           }
          ],
          "contour": [
           {
            "colorbar": {
             "outlinewidth": 0,
             "ticks": ""
            },
            "colorscale": [
             [
              0,
              "#0d0887"
             ],
             [
              0.1111111111111111,
              "#46039f"
             ],
             [
              0.2222222222222222,
              "#7201a8"
             ],
             [
              0.3333333333333333,
              "#9c179e"
             ],
             [
              0.4444444444444444,
              "#bd3786"
             ],
             [
              0.5555555555555556,
              "#d8576b"
             ],
             [
              0.6666666666666666,
              "#ed7953"
             ],
             [
              0.7777777777777778,
              "#fb9f3a"
             ],
             [
              0.8888888888888888,
              "#fdca26"
             ],
             [
              1,
              "#f0f921"
             ]
            ],
            "type": "contour"
           }
          ],
          "contourcarpet": [
           {
            "colorbar": {
             "outlinewidth": 0,
             "ticks": ""
            },
            "type": "contourcarpet"
           }
          ],
          "heatmap": [
           {
            "colorbar": {
             "outlinewidth": 0,
             "ticks": ""
            },
            "colorscale": [
             [
              0,
              "#0d0887"
             ],
             [
              0.1111111111111111,
              "#46039f"
             ],
             [
              0.2222222222222222,
              "#7201a8"
             ],
             [
              0.3333333333333333,
              "#9c179e"
             ],
             [
              0.4444444444444444,
              "#bd3786"
             ],
             [
              0.5555555555555556,
              "#d8576b"
             ],
             [
              0.6666666666666666,
              "#ed7953"
             ],
             [
              0.7777777777777778,
              "#fb9f3a"
             ],
             [
              0.8888888888888888,
              "#fdca26"
             ],
             [
              1,
              "#f0f921"
             ]
            ],
            "type": "heatmap"
           }
          ],
          "histogram": [
           {
            "marker": {
             "pattern": {
              "fillmode": "overlay",
              "size": 10,
              "solidity": 0.2
             }
            },
            "type": "histogram"
           }
          ],
          "histogram2d": [
           {
            "colorbar": {
             "outlinewidth": 0,
             "ticks": ""
            },
            "colorscale": [
             [
              0,
              "#0d0887"
             ],
             [
              0.1111111111111111,
              "#46039f"
             ],
             [
              0.2222222222222222,
              "#7201a8"
             ],
             [
              0.3333333333333333,
              "#9c179e"
             ],
             [
              0.4444444444444444,
              "#bd3786"
             ],
             [
              0.5555555555555556,
              "#d8576b"
             ],
             [
              0.6666666666666666,
              "#ed7953"
             ],
             [
              0.7777777777777778,
              "#fb9f3a"
             ],
             [
              0.8888888888888888,
              "#fdca26"
             ],
             [
              1,
              "#f0f921"
             ]
            ],
            "type": "histogram2d"
           }
          ],
          "histogram2dcontour": [
           {
            "colorbar": {
             "outlinewidth": 0,
             "ticks": ""
            },
            "colorscale": [
             [
              0,
              "#0d0887"
             ],
             [
              0.1111111111111111,
              "#46039f"
             ],
             [
              0.2222222222222222,
              "#7201a8"
             ],
             [
              0.3333333333333333,
              "#9c179e"
             ],
             [
              0.4444444444444444,
              "#bd3786"
             ],
             [
              0.5555555555555556,
              "#d8576b"
             ],
             [
              0.6666666666666666,
              "#ed7953"
             ],
             [
              0.7777777777777778,
              "#fb9f3a"
             ],
             [
              0.8888888888888888,
              "#fdca26"
             ],
             [
              1,
              "#f0f921"
             ]
            ],
            "type": "histogram2dcontour"
           }
          ],
          "mesh3d": [
           {
            "colorbar": {
             "outlinewidth": 0,
             "ticks": ""
            },
            "type": "mesh3d"
           }
          ],
          "parcoords": [
           {
            "line": {
             "colorbar": {
              "outlinewidth": 0,
              "ticks": ""
             }
            },
            "type": "parcoords"
           }
          ],
          "pie": [
           {
            "automargin": true,
            "type": "pie"
           }
          ],
          "scatter": [
           {
            "fillpattern": {
             "fillmode": "overlay",
             "size": 10,
             "solidity": 0.2
            },
            "type": "scatter"
           }
          ],
          "scatter3d": [
           {
            "line": {
             "colorbar": {
              "outlinewidth": 0,
              "ticks": ""
             }
            },
            "marker": {
             "colorbar": {
              "outlinewidth": 0,
              "ticks": ""
             }
            },
            "type": "scatter3d"
           }
          ],
          "scattercarpet": [
           {
            "marker": {
             "colorbar": {
              "outlinewidth": 0,
              "ticks": ""
             }
            },
            "type": "scattercarpet"
           }
          ],
          "scattergeo": [
           {
            "marker": {
             "colorbar": {
              "outlinewidth": 0,
              "ticks": ""
             }
            },
            "type": "scattergeo"
           }
          ],
          "scattergl": [
           {
            "marker": {
             "colorbar": {
              "outlinewidth": 0,
              "ticks": ""
             }
            },
            "type": "scattergl"
           }
          ],
          "scattermap": [
           {
            "marker": {
             "colorbar": {
              "outlinewidth": 0,
              "ticks": ""
             }
            },
            "type": "scattermap"
           }
          ],
          "scattermapbox": [
           {
            "marker": {
             "colorbar": {
              "outlinewidth": 0,
              "ticks": ""
             }
            },
            "type": "scattermapbox"
           }
          ],
          "scatterpolar": [
           {
            "marker": {
             "colorbar": {
              "outlinewidth": 0,
              "ticks": ""
             }
            },
            "type": "scatterpolar"
           }
          ],
          "scatterpolargl": [
           {
            "marker": {
             "colorbar": {
              "outlinewidth": 0,
              "ticks": ""
             }
            },
            "type": "scatterpolargl"
           }
          ],
          "scatterternary": [
           {
            "marker": {
             "colorbar": {
              "outlinewidth": 0,
              "ticks": ""
             }
            },
            "type": "scatterternary"
           }
          ],
          "surface": [
           {
            "colorbar": {
             "outlinewidth": 0,
             "ticks": ""
            },
            "colorscale": [
             [
              0,
              "#0d0887"
             ],
             [
              0.1111111111111111,
              "#46039f"
             ],
             [
              0.2222222222222222,
              "#7201a8"
             ],
             [
              0.3333333333333333,
              "#9c179e"
             ],
             [
              0.4444444444444444,
              "#bd3786"
             ],
             [
              0.5555555555555556,
              "#d8576b"
             ],
             [
              0.6666666666666666,
              "#ed7953"
             ],
             [
              0.7777777777777778,
              "#fb9f3a"
             ],
             [
              0.8888888888888888,
              "#fdca26"
             ],
             [
              1,
              "#f0f921"
             ]
            ],
            "type": "surface"
           }
          ],
          "table": [
           {
            "cells": {
             "fill": {
              "color": "#EBF0F8"
             },
             "line": {
              "color": "white"
             }
            },
            "header": {
             "fill": {
              "color": "#C8D4E3"
             },
             "line": {
              "color": "white"
             }
            },
            "type": "table"
           }
          ]
         },
         "layout": {
          "annotationdefaults": {
           "arrowcolor": "#2a3f5f",
           "arrowhead": 0,
           "arrowwidth": 1
          },
          "autotypenumbers": "strict",
          "coloraxis": {
           "colorbar": {
            "outlinewidth": 0,
            "ticks": ""
           }
          },
          "colorscale": {
           "diverging": [
            [
             0,
             "#8e0152"
            ],
            [
             0.1,
             "#c51b7d"
            ],
            [
             0.2,
             "#de77ae"
            ],
            [
             0.3,
             "#f1b6da"
            ],
            [
             0.4,
             "#fde0ef"
            ],
            [
             0.5,
             "#f7f7f7"
            ],
            [
             0.6,
             "#e6f5d0"
            ],
            [
             0.7,
             "#b8e186"
            ],
            [
             0.8,
             "#7fbc41"
            ],
            [
             0.9,
             "#4d9221"
            ],
            [
             1,
             "#276419"
            ]
           ],
           "sequential": [
            [
             0,
             "#0d0887"
            ],
            [
             0.1111111111111111,
             "#46039f"
            ],
            [
             0.2222222222222222,
             "#7201a8"
            ],
            [
             0.3333333333333333,
             "#9c179e"
            ],
            [
             0.4444444444444444,
             "#bd3786"
            ],
            [
             0.5555555555555556,
             "#d8576b"
            ],
            [
             0.6666666666666666,
             "#ed7953"
            ],
            [
             0.7777777777777778,
             "#fb9f3a"
            ],
            [
             0.8888888888888888,
             "#fdca26"
            ],
            [
             1,
             "#f0f921"
            ]
           ],
           "sequentialminus": [
            [
             0,
             "#0d0887"
            ],
            [
             0.1111111111111111,
             "#46039f"
            ],
            [
             0.2222222222222222,
             "#7201a8"
            ],
            [
             0.3333333333333333,
             "#9c179e"
            ],
            [
             0.4444444444444444,
             "#bd3786"
            ],
            [
             0.5555555555555556,
             "#d8576b"
            ],
            [
             0.6666666666666666,
             "#ed7953"
            ],
            [
             0.7777777777777778,
             "#fb9f3a"
            ],
            [
             0.8888888888888888,
             "#fdca26"
            ],
            [
             1,
             "#f0f921"
            ]
           ]
          },
          "colorway": [
           "#636efa",
           "#EF553B",
           "#00cc96",
           "#ab63fa",
           "#FFA15A",
           "#19d3f3",
           "#FF6692",
           "#B6E880",
           "#FF97FF",
           "#FECB52"
          ],
          "font": {
           "color": "#2a3f5f"
          },
          "geo": {
           "bgcolor": "white",
           "lakecolor": "white",
           "landcolor": "#E5ECF6",
           "showlakes": true,
           "showland": true,
           "subunitcolor": "white"
          },
          "hoverlabel": {
           "align": "left"
          },
          "hovermode": "closest",
          "mapbox": {
           "style": "light"
          },
          "paper_bgcolor": "white",
          "plot_bgcolor": "#E5ECF6",
          "polar": {
           "angularaxis": {
            "gridcolor": "white",
            "linecolor": "white",
            "ticks": ""
           },
           "bgcolor": "#E5ECF6",
           "radialaxis": {
            "gridcolor": "white",
            "linecolor": "white",
            "ticks": ""
           }
          },
          "scene": {
           "xaxis": {
            "backgroundcolor": "#E5ECF6",
            "gridcolor": "white",
            "gridwidth": 2,
            "linecolor": "white",
            "showbackground": true,
            "ticks": "",
            "zerolinecolor": "white"
           },
           "yaxis": {
            "backgroundcolor": "#E5ECF6",
            "gridcolor": "white",
            "gridwidth": 2,
            "linecolor": "white",
            "showbackground": true,
            "ticks": "",
            "zerolinecolor": "white"
           },
           "zaxis": {
            "backgroundcolor": "#E5ECF6",
            "gridcolor": "white",
            "gridwidth": 2,
            "linecolor": "white",
            "showbackground": true,
            "ticks": "",
            "zerolinecolor": "white"
           }
          },
          "shapedefaults": {
           "line": {
            "color": "#2a3f5f"
           }
          },
          "ternary": {
           "aaxis": {
            "gridcolor": "white",
            "linecolor": "white",
            "ticks": ""
           },
           "baxis": {
            "gridcolor": "white",
            "linecolor": "white",
            "ticks": ""
           },
           "bgcolor": "#E5ECF6",
           "caxis": {
            "gridcolor": "white",
            "linecolor": "white",
            "ticks": ""
           }
          },
          "title": {
           "x": 0.05
          },
          "xaxis": {
           "automargin": true,
           "gridcolor": "white",
           "linecolor": "white",
           "ticks": "",
           "title": {
            "standoff": 15
           },
           "zerolinecolor": "white",
           "zerolinewidth": 2
          },
          "yaxis": {
           "automargin": true,
           "gridcolor": "white",
           "linecolor": "white",
           "ticks": "",
           "title": {
            "standoff": 15
           },
           "zerolinecolor": "white",
           "zerolinewidth": 2
          }
         }
        },
        "title": {
         "text": "Model Comparison: val_MAPE Distribution"
        },
        "xaxis": {
         "anchor": "y",
         "categoryarray": [
          "XGBoost",
          "LightGBM"
         ],
         "categoryorder": "array",
         "domain": [
          0,
          1
         ],
         "title": {
          "text": "Model"
         }
        },
        "yaxis": {
         "anchor": "x",
         "domain": [
          0,
          1
         ],
         "title": {
          "text": "val_MAPE"
         }
        }
       }
      }
     },
     "metadata": {},
     "output_type": "display_data"
    }
   ],
   "source": [
    "for metric in ['val_MAE', 'val_MAPE']:\n",
    "    fig = px.box(\n",
    "        df_metrics,\n",
    "        x='model',\n",
    "        y=metric,\n",
    "        color='model', \n",
    "        color_discrete_map={\n",
    "    'LightGBM': '#1f77b4',\n",
    "    'XGBoost': '#ff7f0e' \n",
    "    },\n",
    "    )\n",
    "    \n",
    "    fig.update_layout(\n",
    "        title=f'Model Comparison: {metric} Distribution',\n",
    "        xaxis_title='Model',\n",
    "        yaxis_title=f'{metric}',\n",
    "        font=dict(size=12)\n",
    "    )\n",
    "    \n",
    "    fig.show()"
   ]
  }
 ],
 "metadata": {
  "kernelspec": {
   "display_name": "Python 3",
   "language": "python",
   "name": "python3"
  },
  "language_info": {
   "codemirror_mode": {
    "name": "ipython",
    "version": 3
   },
   "file_extension": ".py",
   "mimetype": "text/x-python",
   "name": "python",
   "nbconvert_exporter": "python",
   "pygments_lexer": "ipython3",
   "version": "3.13.6"
  }
 },
 "nbformat": 4,
 "nbformat_minor": 5
}
